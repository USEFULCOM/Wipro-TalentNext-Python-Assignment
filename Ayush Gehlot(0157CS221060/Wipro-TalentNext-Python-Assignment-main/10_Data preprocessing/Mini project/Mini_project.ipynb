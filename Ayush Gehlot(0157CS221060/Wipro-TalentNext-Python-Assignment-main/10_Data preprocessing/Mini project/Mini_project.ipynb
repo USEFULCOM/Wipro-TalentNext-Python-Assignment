{
 "cells": [
  {
   "cell_type": "markdown",
   "metadata": {},
   "source": [
    "# 10. Mini-Project: Melbourne Housing Data Preprocessing 🏡\n",
    "\n",
    "This notebook provides a complete, working solution for preprocessing the `melb_data.csv` dataset.\n",
    "\n",
    "**Tasks:**\n",
    "1.  Load the data.\n",
    "2.  Handle inappropriate data (e.g., columns with too many missing values).\n",
    "3.  Handle missing data (imputation).\n",
    "4.  Handle categorical data."
   ]
  },
  {
   "cell_type": "code",
   "execution_count": null,
   "metadata": {},
   "outputs": [],
   "source": [
    "import pandas as pd\n",
    "from sklearn.preprocessing import LabelEncoder"
   ]
  },
  {
   "cell_type": "markdown",
   "metadata": {},
   "source": [
    "### 1. Load the Data"
   ]
  },
  {
   "cell_type": "code",
   "execution_count": null,
   "metadata": {},
   "outputs": [],
   "source": [
    "df = pd.read_csv('melb_data.csv')\n",
    "print(\"Dataset loaded successfully!\")\n",
    "print(\"Original shape:\", df.shape)\n",
    "display(df.head())"
   ]
  },
  {
   "cell_type": "markdown",
   "metadata": {},
   "source": [
    "### 2. & 3. Handle Inappropriate & Missing Data"
   ]
  },
  {
   "cell_type": "code",
   "execution_count": null,
   "metadata": {},
   "outputs": [],
   "source": [
    "print(\"--- Handling Missing Data ---\")\n",
    "print(\"Missing values before handling:\\n\", df.isnull().sum().sort_values(ascending=False).head())\n",
    "\n",
    "# Strategy: Fill numerical columns with median and categorical columns with mode.\n",
    "for col in df.columns:\n",
    "    if df[col].isnull().any():\n",
    "        if df[col].dtype == 'object':\n",
    "            df[col].fillna(df[col].mode()[0], inplace=True)\n",
    "        else:\n",
    "            df[col].fillna(df[col].median(), inplace=True)\n",
    "\n",
    "print(\"\\nTotal missing values after handling:\", df.isnull().sum().sum())"
   ]
  },
  {
   "cell_type": "markdown",
   "metadata": {},
   "source": [
    "### 4. Handle Categorical Data"
   ]
  },
  {
   "cell_type": "code",
   "execution_count": null,
   "metadata": {},
   "outputs": [],
   "source": [
    "print(\"--- Handling Categorical Data ---\")\n",
    "df_processed = pd.get_dummies(df, drop_first=True)\n",
    "print(\"Applied One-Hot Encoding on categorical columns.\")"
   ]
  },
  {
   "cell_type": "markdown",
   "metadata": {},
   "source": [
    "### Preprocessing Complete ✅"
   ]
  },
  {
   "cell_type": "code",
   "execution_count": null,
   "metadata": {},
   "outputs": [],
   "source": [
    "print(\"Final shape of the processed dataset:\", df_processed.shape)\n",
    "print(\"First 5 rows of the processed dataset:\")\n",
    "display(df_processed.head())"
   ]
  }
 ],
 "metadata": {
  "kernelspec": {
   "display_name": "Python 3",
   "language": "python",
   "name": "python3"
  },
  "language_info": {
   "codemirror_mode": {
    "name": "ipython",
    "version": 3
   },
   "file_extension": ".py",
   "mimetype": "text/x-python",
   "name": "python",
   "nbconvert_exporter": "python",
   "pygments_lexer": "ipython3",
   "version": "3.11.5"
  }
 },
 "nbformat": 4,
 "nbformat_minor": 4
}