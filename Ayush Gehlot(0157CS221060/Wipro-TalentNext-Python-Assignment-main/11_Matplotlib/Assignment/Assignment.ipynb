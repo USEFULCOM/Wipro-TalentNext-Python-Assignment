{
 "cells": [
  {
   "cell_type": "markdown",
   "metadata": {},
   "source": [
    "# 11. Hands-on Assignments: Exploratory Data Analysis (EDA) 📊\n",
    "\n",
    "This notebook contains the EDA for:\n",
    "1. `Mall_Customers.csv`\n",
    "2. `salary_data.csv`\n",
    "3. `Social_Network_Ads.csv`"
   ]
  },
  {
   "cell_type": "code",
   "execution_count": null,
   "metadata": {},
   "outputs": [],
   "source": [
    "import pandas as pd\n",
    "import matplotlib.pyplot as plt\n",
    "import seaborn as sns\n",
    "\n",
    "sns.set_theme(style='whitegrid')"
   ]
  },
  {
   "cell_type": "markdown",
   "metadata": {},
   "source": [
    "--- \n",
    "## 1. EDA on Mall Customers Dataset"
   ]
  },
  {
   "cell_type": "code",
   "execution_count": null,
   "metadata": {},
   "outputs": [],
   "source": [
    "df_mall = pd.read_csv('Mall_Customers.csv')\n",
    "plt.figure(figsize=(10, 6))\n",
    "plt.title('Spending Score vs. Annual Income')\n",
    "sns.scatterplot(x='Annual Income (k$)', y='Spending Score (1-100)', hue='Gender', data=df_mall)\n",
    "plt.show()"
   ]
  },
  {
   "cell_type": "markdown",
   "metadata": {},
   "source": [
    "--- \n",
    "## 2. EDA on Salary Data Dataset"
   ]
  },
  {
   "cell_type": "code",
   "execution_count": null,
   "metadata": {},
   "outputs": [],
   "source": [
    "df_salary = pd.read_csv('salary_data.csv')\n",
    "plt.figure(figsize=(10, 6))\n",
    "plt.title('Salary vs. Years of Experience')\n",
    "sns.regplot(x='YearsExperience', y='Salary', data=df_salary)\n",
    "plt.show()"
   ]
  },
  {
   "cell_type": "markdown",
   "metadata": {},
   "source": [
    "--- \n",
    "## 3. EDA on Social Network Ads Dataset"
   ]
  },
  {
   "cell_type": "code",
   "execution_count": null,
   "metadata": {},
   "outputs": [],
   "source": [
    "df_ads = pd.read_csv('Social_Network_Ads.csv')\n",
    "plt.figure(figsize=(8, 6))\n",
    "plt.title('Count of Purchases by Gender')\n",
    "sns.countplot(x='Gender', hue='Purchased', data=df_ads)\n",
    "plt.show()"
   ]
  }
 ],
 "metadata": {
  "kernelspec": {
   "display_name": "Python 3",
   "language": "python",
   "name": "python3"
  },
  "language_info": {
   "codemirror_mode": {
    "name": "ipython",
    "version": 3
   },
   "file_extension": ".py",
   "mimetype": "text/x-python",
   "name": "python",
   "nbconvert_exporter": "python",
   "pygments_lexer": "ipython3",
   "version": "3.11.5"
  }
 },
 "nbformat": 4,
 "nbformat_minor": 4
}