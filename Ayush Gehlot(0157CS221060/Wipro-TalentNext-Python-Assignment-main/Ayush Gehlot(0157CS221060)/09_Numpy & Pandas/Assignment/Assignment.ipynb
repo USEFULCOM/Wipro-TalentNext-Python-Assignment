{
 "cells": [
  {
   "cell_type": "markdown",
   "metadata": {},
   "source": [
    "# 09. Hands-on Assignments: Numpy & Pandas\n",
    "\n",
    "This notebook contains the solutions for the Numpy and Pandas hands-on exercises."
   ]
  },
  {
   "cell_type": "code",
   "execution_count": null,
   "metadata": {},
   "outputs": [],
   "source": [
    "import numpy as np\n",
    "import pandas as pd"
   ]
  },
  {
   "cell_type": "markdown",
   "metadata": {},
   "source": [
    "--- \n",
    "## Numpy Exercise 1: 2D Array Operations"
   ]
  },
  {
   "cell_type": "code",
   "execution_count": null,
   "metadata": {},
   "outputs": [],
   "source": [
    "# Create a two-dimensional 3*5 array\n",
    "array_2d = np.arange(15).reshape(3, 5)\n",
    "print(\"Original 2D Array:\\n\", array_2d)\n",
    "\n",
    "# Perform ndim and shape operations\n",
    "print(f\"\\nNumber of dimensions (ndim): {array_2d.ndim}\")\n",
    "print(f\"Shape of the array: {array_2d.shape}\")\n",
    "\n",
    "# Perform slicing operation (get the second row)\n",
    "print(\"\\nSliced Array (second row):\", array_2d[1, :])"
   ]
  },
  {
   "cell_type": "markdown",
   "metadata": {},
   "source": [
    "--- \n",
    "## Numpy Exercise 2: 1D Array Operations"
   ]
  },
  {
   "cell_type": "code",
   "execution_count": null,
   "metadata": {},
   "outputs": [],
   "source": [
    "array_1d = np.arange(10)\n",
    "print(\"Original 1D Array:\", array_1d)\n",
    "\n",
    "print(f\"\\nNumber of dimensions (ndim): {array_1d.ndim}\")\n",
    "print(f\"Shape of the array: {array_1d.shape}\")\n",
    "\n",
    "reshaped_array = array_1d.reshape(2, 5)\n",
    "print(\"\\nReshaped 2x5 Array:\\n\", reshaped_array)"
   ]
  },
  {
   "cell_type": "markdown",
   "metadata": {},
   "source": [
    "--- \n",
    "## Pandas Exercise 3: Auto MPG Dataset"
   ]
  },
  {
   "cell_type": "code",
   "execution_count": null,
   "metadata": {},
   "outputs": [],
   "source": [
    "column_names = ['mpg', 'cylinders', 'displacement', 'horsepower', 'weight', 'acceleration', 'model_year', 'origin', 'car_name']\n",
    "url = 'https://archive.ics.uci.edu/ml/machine-learning-databases/auto-mpg/auto-mpg.data'\n",
    "cars = pd.read_csv(url, names=column_names, delim_whitespace=True, na_values='?')\n",
    "print(\"First 10 rows:\")\n",
    "display(cars.head(10))\n",
    "print(\"\\nLast 5 rows:\")\n",
    "display(cars.tail(5))\n",
    "print(\"\\nDataFrame Info:\")\n",
    "cars.info()"
   ]
  },
  {
   "cell_type": "markdown",
   "metadata": {},
   "source": [
    "--- \n",
    "## Pandas Exercise 4: 50 Startups Dataset"
   ]
  },
  {
   "cell_type": "code",
   "execution_count": null,
   "metadata": {},
   "outputs": [],
   "source": [
    "startups = pd.read_csv('50_startups.csv')\n",
    "print(\"Statistical Summary:\")\n",
    "display(startups.describe())\n",
    "numeric_cols = startups.select_dtypes(include=np.number)\n",
    "print(\"\\nCorrelation Matrix:\")\n",
    "display(numeric_cols.corr())"
   ]
  }
 ],
 "metadata": {
  "kernelspec": {
   "display_name": "Python 3",
   "language": "python",
   "name": "python3"
  },
  "language_info": {
   "codemirror_mode": {
    "name": "ipython",
    "version": 3
   },
   "file_extension": ".py",
   "mimetype": "text/x-python",
   "name": "python",
   "nbconvert_exporter": "python",
   "pygments_lexer": "ipython3",
   "version": "3.11.5"
  }
 },
 "nbformat": 4,
 "nbformat_minor": 4
}