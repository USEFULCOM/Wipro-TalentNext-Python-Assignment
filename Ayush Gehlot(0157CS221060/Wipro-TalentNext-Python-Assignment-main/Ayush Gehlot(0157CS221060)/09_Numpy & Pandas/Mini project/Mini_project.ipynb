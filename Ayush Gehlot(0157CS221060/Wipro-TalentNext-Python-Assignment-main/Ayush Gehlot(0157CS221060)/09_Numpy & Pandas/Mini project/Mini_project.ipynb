{
 "cells": [
  {
   "cell_type": "markdown",
   "metadata": {},
   "source": [
    "# 09. Mini-Project: Outlier Detection 🔍\n",
    "\n",
    "**Use Case:** Perform Outlier detection for a given dataset.\n",
    "\n",
    "**Tasks:**\n",
    "1. Load the data in the DataFrame.\n",
    "2. Detection of Outliers."
   ]
  },
  {
   "cell_type": "markdown",
   "metadata": {},
   "source": [
    "### 1. Load the Data\n",
    "\n",
    "Since `datasetExample.csv` is not a standard dataset, we will create a sample DataFrame for this demonstration. This code will work on any dataset with numerical columns."
   ]
  },
  {
   "cell_type": "code",
   "execution_count": null,
   "metadata": {},
   "outputs": [],
   "source": [
    "import pandas as pd\n",
    "import numpy as np\n",
    "import seaborn as sns\n",
    "import matplotlib.pyplot as plt\n",
    "\n",
    "# Create a sample dataset with some outliers\n",
    "data = {\n",
    "    'Salary': [45000, 50000, 52000, 48000, 47000, 55000, 53000, 120000, 46000, 51000, 49000, 54000, 15000]\n",
    "}\n",
    "df = pd.DataFrame(data)\n",
    "\n",
    "print(\"Sample Dataset:\")\n",
    "display(df)"
   ]
  },
  {
   "cell_type": "markdown",
   "metadata": {},
   "source": [
    "### 2. Detection of Outliers\n",
    "\n",
    "We will use two common methods for outlier detection."
   ]
  },
  {
   "cell_type": "markdown",
   "metadata": {},
   "source": [
    "#### Method 1: Visualization using Box Plot\n",
    "\n",
    "A box plot is an excellent way to see the distribution of the data and visually identify points that lie outside the main range (whiskers)."
   ]
  },
  {
   "cell_type": "code",
   "execution_count": null,
   "metadata": {},
   "outputs": [],
   "source": [
    "plt.figure(figsize=(8, 6))\n",
    "sns.boxplot(y=df['Salary'])\n",
    "plt.title('Box Plot of Salary')\n",
    "plt.ylabel('Salary')\n",
    "plt.grid(True)\n",
    "plt.show()\n",
    "\n",
    "# The points above the top whisker are potential outliers."
   ]
  },
  {
   "cell_type": "markdown",
   "metadata": {},
   "source": [
    "#### Method 2: Statistical Detection using Interquartile Range (IQR)\n",
    "\n",
    "The IQR method defines outliers as any data points that fall below `Q1 - 1.5 * IQR` or above `Q3 + 1.5 * IQR`."
   ]
  },
  {
   "cell_type": "code",
   "execution_count": null,
   "metadata": {},
   "outputs": [],
   "source": [
    "# Calculate Q1 (25th percentile) and Q3 (75th percentile)\n",
    "Q1 = df['Salary'].quantile(0.25)\n",
    "Q3 = df['Salary'].quantile(0.75)\n",
    "\n",
    "# Calculate the Interquartile Range (IQR)\n",
    "IQR = Q3 - Q1\n",
    "\n",
    "# Define the lower and upper bounds for outlier detection\n",
    "lower_bound = Q1 - 1.5 * IQR\n",
    "upper_bound = Q3 + 1.5 * IQR\n",
    "\n",
    "print(f\"Q1: {Q1}\")\n",
    "print(f\"Q3: {Q3}\")\n",
    "print(f\"IQR: {IQR}\")\n",
    "print(f\"Lower Bound: {lower_bound}\")\n",
    "print(f\"Upper Bound: {upper_bound}\")"
   ]
  },
  {
   "cell_type": "code",
   "execution_count": null,
   "metadata": {},
   "outputs": [],
   "source": [
    "# Identify the outliers\n",
    "outliers = df[(df['Salary'] < lower_bound) | (df['Salary'] > upper_bound)]\n",
    "\n",
    "print(\"\\nDetected Outliers:\")\n",
    "if outliers.empty:\n",
    "    print(\"No outliers found.\")\n",
    "else:\n",
    "    display(outliers)"
   ]
  }
 ],
 "metadata": {
  "kernelspec": {
   "display_name": "Python 3",
   "language": "python",
   "name": "python3"
  },
  "language_info": {
   "codemirror_mode": {
    "name": "ipython",
    "version": 3
   },
   "file_extension": ".py",
   "mimetype": "text/x-python",
   "name": "python",
   "nbconvert_exporter": "python",
   "pygments_lexer": "ipython3",
   "version": "3.11.5"
  }
 },
 "nbformat": 4,
 "nbformat_minor": 4
}