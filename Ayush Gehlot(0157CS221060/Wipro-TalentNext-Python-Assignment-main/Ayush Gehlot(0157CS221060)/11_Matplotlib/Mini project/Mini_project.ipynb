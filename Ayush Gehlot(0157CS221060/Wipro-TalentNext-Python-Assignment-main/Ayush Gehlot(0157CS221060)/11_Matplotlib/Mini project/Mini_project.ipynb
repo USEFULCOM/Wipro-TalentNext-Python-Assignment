{
 "cells": [
  {
   "cell_type": "markdown",
   "metadata": {},
   "source": [
    "# 11. Mini-Project: EDA on Diabetes Dataset 🩺\n",
    "\n",
    "This is a complete, working notebook for the Diabetes EDA project.\n",
    "\n",
    "**Tasks:**\n",
    "1. Load and Pre-process Data.\n",
    "2. Perform Uni-variate Analysis.\n",
    "3. Perform Bi-variate Analysis."
   ]
  },
  {
   "cell_type": "code",
   "execution_count": null,
   "metadata": {},
   "outputs": [],
   "source": [
    "import pandas as pd\n",
    "import numpy as np\n",
    "import matplotlib.pyplot as plt\n",
    "import seaborn as sns\n",
    "\n",
    "sns.set_theme(style='whitegrid')"
   ]
  },
  {
   "cell_type": "markdown",
   "metadata": {},
   "source": [
    "### 1. Load and Pre-process Data"
   ]
  },
  {
   "cell_type": "code",
   "execution_count": null,
   "metadata": {},
   "outputs": [],
   "source": [
    "df = pd.read_csv('diabetes.csv')\n",
    "# In this dataset, 0 is often a placeholder for missing values\n",
    "cols_to_clean = ['Glucose', 'BloodPressure', 'SkinThickness', 'Insulin', 'BMI']\n",
    "df[cols_to_clean] = df[cols_to_clean].replace(0, np.nan)\n",
    "df.fillna(df.median(), inplace=True)\n",
    "print(\"Data loaded and pre-processed.\")\n",
    "display(df.head())"
   ]
  },
  {
   "cell_type": "markdown",
   "metadata": {},
   "source": [
    "### 2. Uni-variate Analysis"
   ]
  },
  {
   "cell_type": "code",
   "execution_count": null,
   "metadata": {},
   "outputs": [],
   "source": [
    "plt.figure(figsize=(12, 6))\n",
    "plt.title('Distribution of Glucose Levels')\n",
    "sns.histplot(df['Glucose'], kde=True, bins=25, color='purple')\n",
    "plt.show()"
   ]
  },
  {
   "cell_type": "markdown",
   "metadata": {},
   "source": [
    "### 3. Bi-variate Analysis"
   ]
  },
  {
   "cell_type": "code",
   "execution_count": null,
   "metadata": {},
   "outputs": [],
   "source": [
    "plt.figure(figsize=(12, 8))\n",
    "plt.title('Correlation Matrix of Diabetes Features')\n",
    "sns.heatmap(df.corr(), annot=True, cmap='viridis', fmt='.2f')\n",
    "plt.show()"
   ]
  }
 ],
 "metadata": {
  "kernelspec": {
   "display_name": "Python 3",
   "language": "python",
   "name": "python3"
  },
  "language_info": {
   "codemirror_mode": {
    "name": "ipython",
    "version": 3
   },
   "file_extension": ".py",
   "mimetype": "text/x-python",
   "name": "python",
   "nbconvert_exporter": "python",
   "pygments_lexer": "ipython3",
   "version": "3.11.5"
  }
 },
 "nbformat": 4,
 "nbformat_minor": 4
}